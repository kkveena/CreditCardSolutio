{
 "cells": [
  {
   "cell_type": "code",
   "execution_count": 1,
   "metadata": {},
   "outputs": [],
   "source": [
    "import pandas as pd\n",
    "import numpy as np"
   ]
  },
  {
   "cell_type": "code",
   "execution_count": 2,
   "metadata": {},
   "outputs": [],
   "source": [
    "# For easy display of floating numbers\n",
    "pd.set_option('display.float_format', lambda x: '%.3f' % x)"
   ]
  },
  {
   "cell_type": "code",
   "execution_count": 3,
   "metadata": {},
   "outputs": [],
   "source": [
    "import warnings\n",
    "warnings.filterwarnings('ignore')"
   ]
  },
  {
   "cell_type": "markdown",
   "metadata": {},
   "source": [
    "### First Step before we build a model is Data Preparation. This will involve a) Data Exploration , visualization, and Understanding the data ( Categorical vs. Numeric  etc.) b) Cleaning the data and dealing with outliers and missing values and c) Scaling the data - if required\n",
    "### Scaling helps in model convergence and avoiding bias (one feature more important than other due to scale). I am planning to use Classification models (Logistic regression, Decision Tree and random Forest) - which does not require scaling \n",
    "### We should as well find correlation  among predictors - if predictors are highly correlated - we may think of reducing / combining feature space"
   ]
  },
  {
   "cell_type": "markdown",
   "metadata": {},
   "source": [
    "# Data Preparation"
   ]
  },
  {
   "cell_type": "code",
   "execution_count": 4,
   "metadata": {},
   "outputs": [
    {
     "name": "stdout",
     "output_type": "stream",
     "text": [
      "(150000, 12)\n"
     ]
    },
    {
     "data": {
      "text/html": [
       "<div>\n",
       "<style scoped>\n",
       "    .dataframe tbody tr th:only-of-type {\n",
       "        vertical-align: middle;\n",
       "    }\n",
       "\n",
       "    .dataframe tbody tr th {\n",
       "        vertical-align: top;\n",
       "    }\n",
       "\n",
       "    .dataframe thead th {\n",
       "        text-align: right;\n",
       "    }\n",
       "</style>\n",
       "<table border=\"1\" class=\"dataframe\">\n",
       "  <thead>\n",
       "    <tr style=\"text-align: right;\">\n",
       "      <th></th>\n",
       "      <th>Unnamed: 0</th>\n",
       "      <th>delinquency</th>\n",
       "      <th>UtilisationRatio</th>\n",
       "      <th>age</th>\n",
       "      <th>28-59DaysPastDue</th>\n",
       "      <th>DebtRatio</th>\n",
       "      <th>MonthlyIncome</th>\n",
       "      <th>NumberOfOpenCreditLinesAndLoans</th>\n",
       "      <th>91DaysLate</th>\n",
       "      <th>NumberRealEstateLoansOrLines</th>\n",
       "      <th>60-90DaysPastDue</th>\n",
       "      <th>NumberOfDependents</th>\n",
       "    </tr>\n",
       "  </thead>\n",
       "  <tbody>\n",
       "    <tr>\n",
       "      <td>0</td>\n",
       "      <td>1</td>\n",
       "      <td>1</td>\n",
       "      <td>0.766</td>\n",
       "      <td>45</td>\n",
       "      <td>2</td>\n",
       "      <td>0.803</td>\n",
       "      <td>9120.000</td>\n",
       "      <td>13</td>\n",
       "      <td>0</td>\n",
       "      <td>6</td>\n",
       "      <td>0</td>\n",
       "      <td>2.000</td>\n",
       "    </tr>\n",
       "    <tr>\n",
       "      <td>1</td>\n",
       "      <td>2</td>\n",
       "      <td>0</td>\n",
       "      <td>0.957</td>\n",
       "      <td>40</td>\n",
       "      <td>0</td>\n",
       "      <td>0.122</td>\n",
       "      <td>2600.000</td>\n",
       "      <td>4</td>\n",
       "      <td>0</td>\n",
       "      <td>0</td>\n",
       "      <td>0</td>\n",
       "      <td>1.000</td>\n",
       "    </tr>\n",
       "    <tr>\n",
       "      <td>2</td>\n",
       "      <td>3</td>\n",
       "      <td>0</td>\n",
       "      <td>0.658</td>\n",
       "      <td>38</td>\n",
       "      <td>1</td>\n",
       "      <td>0.085</td>\n",
       "      <td>3042.000</td>\n",
       "      <td>2</td>\n",
       "      <td>1</td>\n",
       "      <td>0</td>\n",
       "      <td>0</td>\n",
       "      <td>0.000</td>\n",
       "    </tr>\n",
       "    <tr>\n",
       "      <td>3</td>\n",
       "      <td>4</td>\n",
       "      <td>0</td>\n",
       "      <td>0.234</td>\n",
       "      <td>30</td>\n",
       "      <td>0</td>\n",
       "      <td>0.036</td>\n",
       "      <td>3300.000</td>\n",
       "      <td>5</td>\n",
       "      <td>0</td>\n",
       "      <td>0</td>\n",
       "      <td>0</td>\n",
       "      <td>0.000</td>\n",
       "    </tr>\n",
       "    <tr>\n",
       "      <td>4</td>\n",
       "      <td>5</td>\n",
       "      <td>0</td>\n",
       "      <td>0.907</td>\n",
       "      <td>49</td>\n",
       "      <td>1</td>\n",
       "      <td>0.025</td>\n",
       "      <td>63588.000</td>\n",
       "      <td>7</td>\n",
       "      <td>0</td>\n",
       "      <td>1</td>\n",
       "      <td>0</td>\n",
       "      <td>0.000</td>\n",
       "    </tr>\n",
       "  </tbody>\n",
       "</table>\n",
       "</div>"
      ],
      "text/plain": [
       "   Unnamed: 0  delinquency  UtilisationRatio  age  28-59DaysPastDue  \\\n",
       "0           1            1             0.766   45                 2   \n",
       "1           2            0             0.957   40                 0   \n",
       "2           3            0             0.658   38                 1   \n",
       "3           4            0             0.234   30                 0   \n",
       "4           5            0             0.907   49                 1   \n",
       "\n",
       "   DebtRatio  MonthlyIncome  NumberOfOpenCreditLinesAndLoans  91DaysLate  \\\n",
       "0      0.803       9120.000                               13           0   \n",
       "1      0.122       2600.000                                4           0   \n",
       "2      0.085       3042.000                                2           1   \n",
       "3      0.036       3300.000                                5           0   \n",
       "4      0.025      63588.000                                7           0   \n",
       "\n",
       "   NumberRealEstateLoansOrLines  60-90DaysPastDue  NumberOfDependents  \n",
       "0                             6                 0               2.000  \n",
       "1                             0                 0               1.000  \n",
       "2                             0                 0               0.000  \n",
       "3                             0                 0               0.000  \n",
       "4                             1                 0               0.000  "
      ]
     },
     "execution_count": 4,
     "metadata": {},
     "output_type": "execute_result"
    }
   ],
   "source": [
    "dfData = pd.read_csv(\"trainingdata.csv\",header=0)\n",
    "print(dfData.shape)\n",
    "dfData.head()"
   ]
  },
  {
   "cell_type": "code",
   "execution_count": 5,
   "metadata": {},
   "outputs": [
    {
     "name": "stdout",
     "output_type": "stream",
     "text": [
      "(150000, 11)\n"
     ]
    },
    {
     "data": {
      "text/html": [
       "<div>\n",
       "<style scoped>\n",
       "    .dataframe tbody tr th:only-of-type {\n",
       "        vertical-align: middle;\n",
       "    }\n",
       "\n",
       "    .dataframe tbody tr th {\n",
       "        vertical-align: top;\n",
       "    }\n",
       "\n",
       "    .dataframe thead th {\n",
       "        text-align: right;\n",
       "    }\n",
       "</style>\n",
       "<table border=\"1\" class=\"dataframe\">\n",
       "  <thead>\n",
       "    <tr style=\"text-align: right;\">\n",
       "      <th></th>\n",
       "      <th>delinquency</th>\n",
       "      <th>UtilisationRatio</th>\n",
       "      <th>age</th>\n",
       "      <th>28-59DaysPastDue</th>\n",
       "      <th>DebtRatio</th>\n",
       "      <th>MonthlyIncome</th>\n",
       "      <th>NumberOfOpenCreditLinesAndLoans</th>\n",
       "      <th>91DaysLate</th>\n",
       "      <th>NumberRealEstateLoansOrLines</th>\n",
       "      <th>60-90DaysPastDue</th>\n",
       "      <th>NumberOfDependents</th>\n",
       "    </tr>\n",
       "  </thead>\n",
       "  <tbody>\n",
       "    <tr>\n",
       "      <td>0</td>\n",
       "      <td>1</td>\n",
       "      <td>0.766</td>\n",
       "      <td>45</td>\n",
       "      <td>2</td>\n",
       "      <td>0.803</td>\n",
       "      <td>9120.000</td>\n",
       "      <td>13</td>\n",
       "      <td>0</td>\n",
       "      <td>6</td>\n",
       "      <td>0</td>\n",
       "      <td>2.000</td>\n",
       "    </tr>\n",
       "    <tr>\n",
       "      <td>1</td>\n",
       "      <td>0</td>\n",
       "      <td>0.957</td>\n",
       "      <td>40</td>\n",
       "      <td>0</td>\n",
       "      <td>0.122</td>\n",
       "      <td>2600.000</td>\n",
       "      <td>4</td>\n",
       "      <td>0</td>\n",
       "      <td>0</td>\n",
       "      <td>0</td>\n",
       "      <td>1.000</td>\n",
       "    </tr>\n",
       "    <tr>\n",
       "      <td>2</td>\n",
       "      <td>0</td>\n",
       "      <td>0.658</td>\n",
       "      <td>38</td>\n",
       "      <td>1</td>\n",
       "      <td>0.085</td>\n",
       "      <td>3042.000</td>\n",
       "      <td>2</td>\n",
       "      <td>1</td>\n",
       "      <td>0</td>\n",
       "      <td>0</td>\n",
       "      <td>0.000</td>\n",
       "    </tr>\n",
       "    <tr>\n",
       "      <td>3</td>\n",
       "      <td>0</td>\n",
       "      <td>0.234</td>\n",
       "      <td>30</td>\n",
       "      <td>0</td>\n",
       "      <td>0.036</td>\n",
       "      <td>3300.000</td>\n",
       "      <td>5</td>\n",
       "      <td>0</td>\n",
       "      <td>0</td>\n",
       "      <td>0</td>\n",
       "      <td>0.000</td>\n",
       "    </tr>\n",
       "    <tr>\n",
       "      <td>4</td>\n",
       "      <td>0</td>\n",
       "      <td>0.907</td>\n",
       "      <td>49</td>\n",
       "      <td>1</td>\n",
       "      <td>0.025</td>\n",
       "      <td>63588.000</td>\n",
       "      <td>7</td>\n",
       "      <td>0</td>\n",
       "      <td>1</td>\n",
       "      <td>0</td>\n",
       "      <td>0.000</td>\n",
       "    </tr>\n",
       "  </tbody>\n",
       "</table>\n",
       "</div>"
      ],
      "text/plain": [
       "   delinquency  UtilisationRatio  age  28-59DaysPastDue  DebtRatio  \\\n",
       "0            1             0.766   45                 2      0.803   \n",
       "1            0             0.957   40                 0      0.122   \n",
       "2            0             0.658   38                 1      0.085   \n",
       "3            0             0.234   30                 0      0.036   \n",
       "4            0             0.907   49                 1      0.025   \n",
       "\n",
       "   MonthlyIncome  NumberOfOpenCreditLinesAndLoans  91DaysLate  \\\n",
       "0       9120.000                               13           0   \n",
       "1       2600.000                                4           0   \n",
       "2       3042.000                                2           1   \n",
       "3       3300.000                                5           0   \n",
       "4      63588.000                                7           0   \n",
       "\n",
       "   NumberRealEstateLoansOrLines  60-90DaysPastDue  NumberOfDependents  \n",
       "0                             6                 0               2.000  \n",
       "1                             0                 0               1.000  \n",
       "2                             0                 0               0.000  \n",
       "3                             0                 0               0.000  \n",
       "4                             1                 0               0.000  "
      ]
     },
     "execution_count": 5,
     "metadata": {},
     "output_type": "execute_result"
    }
   ],
   "source": [
    "# Drop first UnNamed Counter Column\n",
    "dfData.drop(columns=['Unnamed: 0'],inplace=True)\n",
    "print(dfData.shape)\n",
    "dfData.head()"
   ]
  },
  {
   "cell_type": "code",
   "execution_count": 6,
   "metadata": {},
   "outputs": [
    {
     "name": "stdout",
     "output_type": "stream",
     "text": [
      "<class 'pandas.core.frame.DataFrame'>\n",
      "RangeIndex: 150000 entries, 0 to 149999\n",
      "Data columns (total 11 columns):\n",
      "delinquency                        150000 non-null int64\n",
      "UtilisationRatio                   150000 non-null float64\n",
      "age                                150000 non-null int64\n",
      "28-59DaysPastDue                   150000 non-null int64\n",
      "DebtRatio                          150000 non-null float64\n",
      "MonthlyIncome                      120269 non-null float64\n",
      "NumberOfOpenCreditLinesAndLoans    150000 non-null int64\n",
      "91DaysLate                         150000 non-null int64\n",
      "NumberRealEstateLoansOrLines       150000 non-null int64\n",
      "60-90DaysPastDue                   150000 non-null int64\n",
      "NumberOfDependents                 146076 non-null float64\n",
      "dtypes: float64(4), int64(7)\n",
      "memory usage: 12.6 MB\n"
     ]
    }
   ],
   "source": [
    "dfData.info()"
   ]
  },
  {
   "cell_type": "code",
   "execution_count": 7,
   "metadata": {},
   "outputs": [
    {
     "data": {
      "text/html": [
       "<div>\n",
       "<style scoped>\n",
       "    .dataframe tbody tr th:only-of-type {\n",
       "        vertical-align: middle;\n",
       "    }\n",
       "\n",
       "    .dataframe tbody tr th {\n",
       "        vertical-align: top;\n",
       "    }\n",
       "\n",
       "    .dataframe thead th {\n",
       "        text-align: right;\n",
       "    }\n",
       "</style>\n",
       "<table border=\"1\" class=\"dataframe\">\n",
       "  <thead>\n",
       "    <tr style=\"text-align: right;\">\n",
       "      <th></th>\n",
       "      <th>delinquency</th>\n",
       "      <th>UtilisationRatio</th>\n",
       "      <th>age</th>\n",
       "      <th>28-59DaysPastDue</th>\n",
       "      <th>DebtRatio</th>\n",
       "      <th>MonthlyIncome</th>\n",
       "      <th>NumberOfOpenCreditLinesAndLoans</th>\n",
       "      <th>91DaysLate</th>\n",
       "      <th>NumberRealEstateLoansOrLines</th>\n",
       "      <th>60-90DaysPastDue</th>\n",
       "      <th>NumberOfDependents</th>\n",
       "    </tr>\n",
       "  </thead>\n",
       "  <tbody>\n",
       "    <tr>\n",
       "      <td>count</td>\n",
       "      <td>150000.000</td>\n",
       "      <td>150000.000</td>\n",
       "      <td>150000.000</td>\n",
       "      <td>150000.000</td>\n",
       "      <td>150000.000</td>\n",
       "      <td>120269.000</td>\n",
       "      <td>150000.000</td>\n",
       "      <td>150000.000</td>\n",
       "      <td>150000.000</td>\n",
       "      <td>150000.000</td>\n",
       "      <td>146076.000</td>\n",
       "    </tr>\n",
       "    <tr>\n",
       "      <td>mean</td>\n",
       "      <td>0.067</td>\n",
       "      <td>6.048</td>\n",
       "      <td>52.295</td>\n",
       "      <td>0.421</td>\n",
       "      <td>353.005</td>\n",
       "      <td>6670.221</td>\n",
       "      <td>8.453</td>\n",
       "      <td>0.266</td>\n",
       "      <td>1.018</td>\n",
       "      <td>0.240</td>\n",
       "      <td>0.757</td>\n",
       "    </tr>\n",
       "    <tr>\n",
       "      <td>std</td>\n",
       "      <td>0.250</td>\n",
       "      <td>249.755</td>\n",
       "      <td>14.772</td>\n",
       "      <td>4.193</td>\n",
       "      <td>2037.819</td>\n",
       "      <td>14384.674</td>\n",
       "      <td>5.146</td>\n",
       "      <td>4.169</td>\n",
       "      <td>1.130</td>\n",
       "      <td>4.155</td>\n",
       "      <td>1.115</td>\n",
       "    </tr>\n",
       "    <tr>\n",
       "      <td>min</td>\n",
       "      <td>0.000</td>\n",
       "      <td>0.000</td>\n",
       "      <td>0.000</td>\n",
       "      <td>0.000</td>\n",
       "      <td>0.000</td>\n",
       "      <td>0.000</td>\n",
       "      <td>0.000</td>\n",
       "      <td>0.000</td>\n",
       "      <td>0.000</td>\n",
       "      <td>0.000</td>\n",
       "      <td>0.000</td>\n",
       "    </tr>\n",
       "    <tr>\n",
       "      <td>25%</td>\n",
       "      <td>0.000</td>\n",
       "      <td>0.030</td>\n",
       "      <td>41.000</td>\n",
       "      <td>0.000</td>\n",
       "      <td>0.175</td>\n",
       "      <td>3400.000</td>\n",
       "      <td>5.000</td>\n",
       "      <td>0.000</td>\n",
       "      <td>0.000</td>\n",
       "      <td>0.000</td>\n",
       "      <td>0.000</td>\n",
       "    </tr>\n",
       "    <tr>\n",
       "      <td>50%</td>\n",
       "      <td>0.000</td>\n",
       "      <td>0.154</td>\n",
       "      <td>52.000</td>\n",
       "      <td>0.000</td>\n",
       "      <td>0.367</td>\n",
       "      <td>5400.000</td>\n",
       "      <td>8.000</td>\n",
       "      <td>0.000</td>\n",
       "      <td>1.000</td>\n",
       "      <td>0.000</td>\n",
       "      <td>0.000</td>\n",
       "    </tr>\n",
       "    <tr>\n",
       "      <td>75%</td>\n",
       "      <td>0.000</td>\n",
       "      <td>0.559</td>\n",
       "      <td>63.000</td>\n",
       "      <td>0.000</td>\n",
       "      <td>0.868</td>\n",
       "      <td>8249.000</td>\n",
       "      <td>11.000</td>\n",
       "      <td>0.000</td>\n",
       "      <td>2.000</td>\n",
       "      <td>0.000</td>\n",
       "      <td>1.000</td>\n",
       "    </tr>\n",
       "    <tr>\n",
       "      <td>max</td>\n",
       "      <td>1.000</td>\n",
       "      <td>50708.000</td>\n",
       "      <td>109.000</td>\n",
       "      <td>98.000</td>\n",
       "      <td>329664.000</td>\n",
       "      <td>3008750.000</td>\n",
       "      <td>58.000</td>\n",
       "      <td>98.000</td>\n",
       "      <td>54.000</td>\n",
       "      <td>98.000</td>\n",
       "      <td>20.000</td>\n",
       "    </tr>\n",
       "  </tbody>\n",
       "</table>\n",
       "</div>"
      ],
      "text/plain": [
       "       delinquency  UtilisationRatio        age  28-59DaysPastDue  DebtRatio  \\\n",
       "count   150000.000        150000.000 150000.000        150000.000 150000.000   \n",
       "mean         0.067             6.048     52.295             0.421    353.005   \n",
       "std          0.250           249.755     14.772             4.193   2037.819   \n",
       "min          0.000             0.000      0.000             0.000      0.000   \n",
       "25%          0.000             0.030     41.000             0.000      0.175   \n",
       "50%          0.000             0.154     52.000             0.000      0.367   \n",
       "75%          0.000             0.559     63.000             0.000      0.868   \n",
       "max          1.000         50708.000    109.000            98.000 329664.000   \n",
       "\n",
       "       MonthlyIncome  NumberOfOpenCreditLinesAndLoans  91DaysLate  \\\n",
       "count     120269.000                       150000.000  150000.000   \n",
       "mean        6670.221                            8.453       0.266   \n",
       "std        14384.674                            5.146       4.169   \n",
       "min            0.000                            0.000       0.000   \n",
       "25%         3400.000                            5.000       0.000   \n",
       "50%         5400.000                            8.000       0.000   \n",
       "75%         8249.000                           11.000       0.000   \n",
       "max      3008750.000                           58.000      98.000   \n",
       "\n",
       "       NumberRealEstateLoansOrLines  60-90DaysPastDue  NumberOfDependents  \n",
       "count                    150000.000        150000.000          146076.000  \n",
       "mean                          1.018             0.240               0.757  \n",
       "std                           1.130             4.155               1.115  \n",
       "min                           0.000             0.000               0.000  \n",
       "25%                           0.000             0.000               0.000  \n",
       "50%                           1.000             0.000               0.000  \n",
       "75%                           2.000             0.000               1.000  \n",
       "max                          54.000            98.000              20.000  "
      ]
     },
     "execution_count": 7,
     "metadata": {},
     "output_type": "execute_result"
    }
   ],
   "source": [
    "dfData.describe()"
   ]
  },
  {
   "cell_type": "raw",
   "metadata": {},
   "source": [
    "1.  DataFrame Info --> we are observing that \"MonthlyIncome\" and \"NumberOf Dependents\" have missing values; For model efficiency, we can decide to drop the records with missing values or impute them \n",
    "or run  linear regression models (with other factors as predictors ) to fill the value\n",
    "\n",
    "2. I am ruling out dropping records with missing values (approx. 19 % of records) or predicting its value from other predictors in model (as it will complicate the model)\n",
    "\n",
    "3. Hence , I will be imputing the model by relacing missing value with Median. This may bias the model (as higher income group people are less likely to default  and more number of dependents may increase probability of default). \n",
    "   Imputing will increase number of observations and hence may help in avoiding overfitting"
   ]
  },
  {
   "cell_type": "code",
   "execution_count": 8,
   "metadata": {},
   "outputs": [
    {
     "name": "stdout",
     "output_type": "stream",
     "text": [
      "<class 'pandas.core.frame.DataFrame'>\n",
      "RangeIndex: 150000 entries, 0 to 149999\n",
      "Data columns (total 11 columns):\n",
      "delinquency                        150000 non-null int64\n",
      "UtilisationRatio                   150000 non-null float64\n",
      "age                                150000 non-null int64\n",
      "28-59DaysPastDue                   150000 non-null int64\n",
      "DebtRatio                          150000 non-null float64\n",
      "MonthlyIncome                      150000 non-null float64\n",
      "NumberOfOpenCreditLinesAndLoans    150000 non-null int64\n",
      "91DaysLate                         150000 non-null int64\n",
      "NumberRealEstateLoansOrLines       150000 non-null int64\n",
      "60-90DaysPastDue                   150000 non-null int64\n",
      "NumberOfDependents                 150000 non-null float64\n",
      "dtypes: float64(4), int64(7)\n",
      "memory usage: 12.6 MB\n"
     ]
    }
   ],
   "source": [
    "dfData['NumberOfDependents'] = dfData['NumberOfDependents'].fillna(dfData['NumberOfDependents'].median())\n",
    "dfData['MonthlyIncome'] = dfData['MonthlyIncome'].fillna(dfData['MonthlyIncome'].median())\n",
    "dfData.info()"
   ]
  },
  {
   "cell_type": "markdown",
   "metadata": {},
   "source": [
    "#### Data Visualization"
   ]
  },
  {
   "cell_type": "code",
   "execution_count": 9,
   "metadata": {},
   "outputs": [
    {
     "data": {
      "image/png": "[encoded data removed]",
      "text/plain": [
       "<Figure size 1440x1080 with 12 Axes>"
      ]
     },
     "metadata": {
      "needs_background": "light"
     },
     "output_type": "display_data"
    }
   ],
   "source": [
    "# Observing if there is any Outlier\n",
    "%matplotlib inline  \n",
    "import matplotlib.pyplot as plt\n",
    "dfData.hist(bins=50, figsize=(20,15))\n",
    "plt.show()"
   ]
  },
  {
   "cell_type": "raw",
   "metadata": {},
   "source": [
    "# Observations\n",
    "1. From Histograph, It is observed that there are no significant Outliers for any of predictors\n",
    "2. Many of Predictors are tail heavy\n",
    "3. delinquency is precicted value - There is class imbalance; Daefault cases are quite less than Not Defaulted (approx 7%)"
   ]
  },
  {
   "cell_type": "markdown",
   "metadata": {},
   "source": [
    "#### Data Correlation"
   ]
  },
  {
   "cell_type": "code",
   "execution_count": 10,
   "metadata": {},
   "outputs": [
    {
     "data": {
      "text/plain": [
       "MonthlyIncome                      1.000\n",
       "NumberRealEstateLoansOrLines       0.116\n",
       "NumberOfOpenCreditLinesAndLoans    0.087\n",
       "NumberOfDependents                 0.066\n",
       "age                                0.028\n",
       "UtilisationRatio                   0.007\n",
       "28-59DaysPastDue                  -0.008\n",
       "60-90DaysPastDue                  -0.009\n",
       "91DaysLate                        -0.011\n",
       "delinquency                       -0.017\n",
       "DebtRatio                         -0.018\n",
       "Name: MonthlyIncome, dtype: float64"
      ]
     },
     "execution_count": 10,
     "metadata": {},
     "output_type": "execute_result"
    }
   ],
   "source": [
    "corr_matrix = dfData.corr()\n",
    "corr_matrix['MonthlyIncome'].sort_values(ascending=False)"
   ]
  },
  {
   "cell_type": "code",
   "execution_count": 11,
   "metadata": {},
   "outputs": [
    {
     "data": {
      "text/plain": [
       "delinquency                        1.000\n",
       "28-59DaysPastDue                   0.126\n",
       "91DaysLate                         0.117\n",
       "60-90DaysPastDue                   0.102\n",
       "NumberOfDependents                 0.047\n",
       "UtilisationRatio                  -0.002\n",
       "NumberRealEstateLoansOrLines      -0.007\n",
       "DebtRatio                         -0.008\n",
       "MonthlyIncome                     -0.017\n",
       "NumberOfOpenCreditLinesAndLoans   -0.030\n",
       "age                               -0.115\n",
       "Name: delinquency, dtype: float64"
      ]
     },
     "execution_count": 11,
     "metadata": {},
     "output_type": "execute_result"
    }
   ],
   "source": [
    "corr_matrix['delinquency'].sort_values(ascending=False)"
   ]
  },
  {
   "cell_type": "code",
   "execution_count": 12,
   "metadata": {},
   "outputs": [],
   "source": [
    "import seaborn as sns\n",
    "import matplotlib.pyplot as plt"
   ]
  },
  {
   "cell_type": "code",
   "execution_count": 13,
   "metadata": {},
   "outputs": [
    {
     "data": {
      "text/plain": [
       "<matplotlib.axes._subplots.AxesSubplot at 0x269f47aa408>"
      ]
     },
     "execution_count": 13,
     "metadata": {},
     "output_type": "execute_result"
    },
    {
     "data": {
      "image/png": "[encoded data removed]",
      "text/plain": [
       "<Figure size 432x288 with 2 Axes>"
      ]
     },
     "metadata": {
      "needs_background": "light"
     },
     "output_type": "display_data"
    }
   ],
   "source": [
    "#sns.heatmap(dfData.corr(), annot = True,square=True)\n",
    "sns.heatmap(dfData.corr(), annot = True, fmt= '0.1g',vmin=-1, vmax=1, center= 0, cmap= 'coolwarm')"
   ]
  },
  {
   "cell_type": "raw",
   "metadata": {},
   "source": [
    "1. Based on Correlation Heatmap, We are finding that delinquency is not highly correlated with any of predictors\n",
    "2. '28-59DaysPastDue', '60-90DaysPastDue', '91DaysLate' are highly  correlated. It is expected. \n",
    "3. We decided not to reduce feature space by dropping any of highly correlated predictors. It provides valuable information for delinquency and hence it should be part of feature list\n",
    "4. Other predictors are not highly correlated"
   ]
  },
  {
   "cell_type": "markdown",
   "metadata": {},
   "source": [
    "# Select and Train a Model"
   ]
  },
  {
   "cell_type": "raw",
   "metadata": {},
   "source": [
    "1. Once we have Cleaned the data - we are ready to run the model\n",
    "2. This is a classification problem - based on Credit Card data of user - we are predicting  if he/she will default or not\n",
    "3. For classification models - we will choose among SGD (Stochastic Gradient Descent), Logistic Regression  , Decison Tree and Random Forest\n",
    "4. As we have to choose one model among 4 models - we will split the data in training (80 % of data) and test ( 20 % of data). We will choose the model - which has highest performance \n",
    "5. Accuracy is not the correct measure for Classification models. We will qualify the best model based on Precision, Recall, F-1 Score, and ROC Curve\n",
    "6. Based on these performance measures , we will choose the best model"
   ]
  },
  {
   "cell_type": "code",
   "execution_count": 14,
   "metadata": {},
   "outputs": [
    {
     "data": {
      "text/html": [
       "<div>\n",
       "<style scoped>\n",
       "    .dataframe tbody tr th:only-of-type {\n",
       "        vertical-align: middle;\n",
       "    }\n",
       "\n",
       "    .dataframe tbody tr th {\n",
       "        vertical-align: top;\n",
       "    }\n",
       "\n",
       "    .dataframe thead th {\n",
       "        text-align: right;\n",
       "    }\n",
       "</style>\n",
       "<table border=\"1\" class=\"dataframe\">\n",
       "  <thead>\n",
       "    <tr style=\"text-align: right;\">\n",
       "      <th></th>\n",
       "      <th>delinquency</th>\n",
       "      <th>UtilisationRatio</th>\n",
       "      <th>age</th>\n",
       "      <th>28-59DaysPastDue</th>\n",
       "      <th>DebtRatio</th>\n",
       "      <th>MonthlyIncome</th>\n",
       "      <th>NumberOfOpenCreditLinesAndLoans</th>\n",
       "      <th>91DaysLate</th>\n",
       "      <th>NumberRealEstateLoansOrLines</th>\n",
       "      <th>60-90DaysPastDue</th>\n",
       "      <th>NumberOfDependents</th>\n",
       "    </tr>\n",
       "  </thead>\n",
       "  <tbody>\n",
       "    <tr>\n",
       "      <td>0</td>\n",
       "      <td>0</td>\n",
       "      <td>0.000</td>\n",
       "      <td>29</td>\n",
       "      <td>0</td>\n",
       "      <td>0.012</td>\n",
       "      <td>4342.000</td>\n",
       "      <td>5</td>\n",
       "      <td>0</td>\n",
       "      <td>0</td>\n",
       "      <td>0</td>\n",
       "      <td>0.000</td>\n",
       "    </tr>\n",
       "    <tr>\n",
       "      <td>1</td>\n",
       "      <td>0</td>\n",
       "      <td>0.596</td>\n",
       "      <td>55</td>\n",
       "      <td>0</td>\n",
       "      <td>0.835</td>\n",
       "      <td>1833.000</td>\n",
       "      <td>11</td>\n",
       "      <td>0</td>\n",
       "      <td>1</td>\n",
       "      <td>0</td>\n",
       "      <td>0.000</td>\n",
       "    </tr>\n",
       "    <tr>\n",
       "      <td>2</td>\n",
       "      <td>0</td>\n",
       "      <td>0.000</td>\n",
       "      <td>43</td>\n",
       "      <td>0</td>\n",
       "      <td>0.043</td>\n",
       "      <td>4166.000</td>\n",
       "      <td>2</td>\n",
       "      <td>0</td>\n",
       "      <td>0</td>\n",
       "      <td>0</td>\n",
       "      <td>4.000</td>\n",
       "    </tr>\n",
       "    <tr>\n",
       "      <td>3</td>\n",
       "      <td>0</td>\n",
       "      <td>0.392</td>\n",
       "      <td>40</td>\n",
       "      <td>0</td>\n",
       "      <td>0.060</td>\n",
       "      <td>9000.000</td>\n",
       "      <td>2</td>\n",
       "      <td>0</td>\n",
       "      <td>0</td>\n",
       "      <td>0</td>\n",
       "      <td>5.000</td>\n",
       "    </tr>\n",
       "    <tr>\n",
       "      <td>4</td>\n",
       "      <td>0</td>\n",
       "      <td>0.000</td>\n",
       "      <td>35</td>\n",
       "      <td>0</td>\n",
       "      <td>0.134</td>\n",
       "      <td>5800.000</td>\n",
       "      <td>12</td>\n",
       "      <td>0</td>\n",
       "      <td>1</td>\n",
       "      <td>0</td>\n",
       "      <td>0.000</td>\n",
       "    </tr>\n",
       "  </tbody>\n",
       "</table>\n",
       "</div>"
      ],
      "text/plain": [
       "   delinquency  UtilisationRatio  age  28-59DaysPastDue  DebtRatio  \\\n",
       "0            0             0.000   29                 0      0.012   \n",
       "1            0             0.596   55                 0      0.835   \n",
       "2            0             0.000   43                 0      0.043   \n",
       "3            0             0.392   40                 0      0.060   \n",
       "4            0             0.000   35                 0      0.134   \n",
       "\n",
       "   MonthlyIncome  NumberOfOpenCreditLinesAndLoans  91DaysLate  \\\n",
       "0       4342.000                                5           0   \n",
       "1       1833.000                               11           0   \n",
       "2       4166.000                                2           0   \n",
       "3       9000.000                                2           0   \n",
       "4       5800.000                               12           0   \n",
       "\n",
       "   NumberRealEstateLoansOrLines  60-90DaysPastDue  NumberOfDependents  \n",
       "0                             0                 0               0.000  \n",
       "1                             1                 0               0.000  \n",
       "2                             0                 0               4.000  \n",
       "3                             0                 0               5.000  \n",
       "4                             1                 0               0.000  "
      ]
     },
     "execution_count": 14,
     "metadata": {},
     "output_type": "execute_result"
    }
   ],
   "source": [
    "from sklearn.model_selection import train_test_split\n",
    "train_set, test_set = train_test_split(dfData, test_size=0.2, random_state=42)\n",
    "train_set.reset_index(drop=True,inplace=True)\n",
    "test_set.reset_index(drop=True,inplace=True)\n",
    "train_set.head()"
   ]
  },
  {
   "cell_type": "code",
   "execution_count": 15,
   "metadata": {},
   "outputs": [
    {
     "name": "stdout",
     "output_type": "stream",
     "text": [
      "['delinquency']\n",
      "['UtilisationRatio', 'age', '28-59DaysPastDue', 'DebtRatio', 'MonthlyIncome', 'NumberOfOpenCreditLinesAndLoans', '91DaysLate', 'NumberRealEstateLoansOrLines', '60-90DaysPastDue', 'NumberOfDependents']\n"
     ]
    }
   ],
   "source": [
    "targetCol = ['delinquency']\n",
    "colList = dfData.columns\n",
    "predictors = [x for x in colList if x not in targetCol ]\n",
    "print(targetCol)\n",
    "print(predictors)\n"
   ]
  },
  {
   "cell_type": "code",
   "execution_count": 16,
   "metadata": {},
   "outputs": [
    {
     "name": "stdout",
     "output_type": "stream",
     "text": [
      "(120000, 10) (30000, 10) (120000, 1) (30000, 1)\n"
     ]
    }
   ],
   "source": [
    "X_train,X_test,Y_train,Y_test = train_set[predictors],test_set[predictors],train_set[targetCol],test_set[targetCol]\n",
    "print(X_train.shape,X_test.shape,Y_train.shape,Y_test.shape)"
   ]
  },
  {
   "cell_type": "code",
   "execution_count": 18,
   "metadata": {},
   "outputs": [],
   "source": [
    "\"\"\" This method will perform cross validation and will return result based on parameters passed. One can set scoring to get accuracy score or method as predict probablities to get distribution\"\"\"\n",
    "\n",
    "from sklearn.model_selection import cross_val_predict,cross_val_score\n",
    "def getCrossValPredict(classifier,X_train,Y_train,cv=10, scoring=None, method=None):\n",
    "    TY = Y_train.to_numpy()\n",
    "    if scoring is not None:\n",
    "        crossValScore = cross_val_score(classifier, X_train, TY.ravel(), cv=cv, scoring=scoring)\n",
    "        return crossValScore\n",
    "    if method is not None:\n",
    "        y_train_pred = cross_val_predict(classifier, X_train,  TY.ravel(), cv=cv, method=method)\n",
    "        return y_train_pred\n",
    "    elif method is None or scoring is None:\n",
    "        y_train_pred = cross_val_predict(classifier, X_train,  TY.ravel(), cv=cv)\n",
    "        return y_train_pred\n",
    "        \n",
    "    "
   ]
  },
  {
   "cell_type": "code",
   "execution_count": 19,
   "metadata": {},
   "outputs": [],
   "source": [
    "\"\"\" This method will get Confusion metrics - which will be used to determine precison / recall / F1Score\"\"\"\n",
    "from sklearn.metrics import confusion_matrix\n",
    "def getConfusionMatrix(Y_train,y_train_pred):\n",
    "    TY = Y_train.to_numpy()\n",
    "    conf = confusion_matrix(TY.ravel(), y_train_pred)\n",
    "    return conf\n",
    "    "
   ]
  },
  {
   "cell_type": "code",
   "execution_count": 20,
   "metadata": {},
   "outputs": [],
   "source": [
    "\"\"\"get precision / recall / F1-Score \"\"\"\n",
    "from sklearn.metrics import precision_score, recall_score,f1_score\n",
    "def getClassificationMetrics(Y_train,y_train_pred):\n",
    "    TY = Y_train.to_numpy()\n",
    "    precision = precision_score(TY.ravel(), y_train_pred) \n",
    "\n",
    "    recall = recall_score(TY.ravel(), y_train_pred) \n",
    "    f1Score =f1_score(TY.ravel(), y_train_pred)\n",
    "    return precision, recall, f1Score\n",
    "\n",
    "    "
   ]
  },
  {
   "cell_type": "code",
   "execution_count": 21,
   "metadata": {},
   "outputs": [],
   "source": [
    "\"\"\"This method will get precison recall curve - to observe tradeoff\"\"\"\n",
    "from sklearn.metrics import precision_recall_curve\n",
    "def plot_precision_recall_vs_threshold(Y_train,y_train_pred):\n",
    "    precisions, recalls, thresholds = precision_recall_curve(Y_train, y_train_pred)\n",
    "    plt.plot(thresholds, precisions[:-1], \"b--\", label=\"Precision\")\n",
    "    plt.plot(thresholds, recalls[:-1], \"g-\", label=\"Recall\")\n",
    "    plt.xlabel(\"Threshold\")\n",
    "    plt.legend(loc=\"center left\")\n",
    "    plt.ylim([0, 1])"
   ]
  },
  {
   "cell_type": "code",
   "execution_count": 22,
   "metadata": {},
   "outputs": [],
   "source": [
    "\"\"\"This method will plot ROC Cuve - to determie randomness / quality of prediction\"\"\"\n",
    "from sklearn.metrics import roc_curve\n",
    "def plot_roc_curve(Y_train, y_train_pred, label=None):\n",
    "    fpr, tpr, thresholds = roc_curve(Y_train, y_train_pred)\n",
    "    plt.plot(fpr, tpr, linewidth=2, label=label)\n",
    "    plt.plot([0, 1], [0, 1], 'k--')\n",
    "    plt.axis([0, 1, 0, 1])\n",
    "    plt.xlabel('False Positive Rate')\n",
    "    plt.ylabel('True Positive Rate')"
   ]
  },
  {
   "cell_type": "code",
   "execution_count": 23,
   "metadata": {},
   "outputs": [],
   "source": [
    "\"\"\"This method will plot ROC Cuve - to determie randomness / quality of prediction\"\"\"\n",
    "from sklearn.metrics import roc_curve\n",
    "def plot_roc_curve_with_fpr(fpr, tpr, label=None):\n",
    "    \n",
    "    plt.plot(fpr, tpr, linewidth=2, label=label)\n",
    "    plt.plot([0, 1], [0, 1], 'k--')\n",
    "    plt.axis([0, 1, 0, 1])\n",
    "    plt.xlabel('False Positive Rate')\n",
    "    plt.ylabel('True Positive Rate')"
   ]
  },
  {
   "cell_type": "code",
   "execution_count": 24,
   "metadata": {},
   "outputs": [],
   "source": [
    "\"\"\"This method will get ROC score. Higher the score - it is better\"\"\"\n",
    "from sklearn.metrics import roc_auc_score\n",
    "def getROCScore(Y_train,y_train_pred):\n",
    "    score = roc_auc_score(Y_train, y_train_pred)\n",
    "    return score\n",
    "    "
   ]
  },
  {
   "cell_type": "markdown",
   "metadata": {},
   "source": [
    "# SGD (Stochastic Gradient Descent) model"
   ]
  },
  {
   "cell_type": "code",
   "execution_count": 25,
   "metadata": {},
   "outputs": [
    {
     "data": {
      "text/plain": [
       "SGDClassifier(alpha=0.0001, average=False, class_weight=None,\n",
       "              early_stopping=False, epsilon=0.1, eta0=0.0, fit_intercept=True,\n",
       "              l1_ratio=0.15, learning_rate='optimal', loss='hinge',\n",
       "              max_iter=1000, n_iter_no_change=5, n_jobs=None, penalty='l2',\n",
       "              power_t=0.5, random_state=42, shuffle=True, tol=0.001,\n",
       "              validation_fraction=0.1, verbose=0, warm_start=False)"
      ]
     },
     "execution_count": 25,
     "metadata": {},
     "output_type": "execute_result"
    }
   ],
   "source": [
    "from sklearn.linear_model import SGDClassifier\n",
    "\n",
    "sgd_clf = SGDClassifier(random_state=42)\n",
    "sgd_clf.fit(X_train, Y_train)"
   ]
  },
  {
   "cell_type": "code",
   "execution_count": 26,
   "metadata": {},
   "outputs": [
    {
     "name": "stdout",
     "output_type": "stream",
     "text": [
      "[0.9315     0.93275    0.93241667 0.93258333 0.93258333 0.92875\n",
      " 0.93158333 0.93275    0.93175    0.9325    ]\n"
     ]
    }
   ],
   "source": [
    "accuracyScore = getCrossValPredict(sgd_clf,X_train,Y_train,cv=10, scoring=\"accuracy\")\n",
    "print(accuracyScore)"
   ]
  },
  {
   "cell_type": "raw",
   "metadata": {},
   "source": [
    "1. Accuracy Score is quite high. However, for Classification problems - that is not the correct measure\n",
    "2. Hence, we will proceed to calculate precison, recall, F1 Score and ROC Curve\n",
    "3. We will accept F1 Score (higher the better), ROC Score (higher the better) and Observe Area under ROC Curve"
   ]
  },
  {
   "cell_type": "code",
   "execution_count": 27,
   "metadata": {},
   "outputs": [
    {
     "name": "stdout",
     "output_type": "stream",
     "text": [
      "(120000,)\n"
     ]
    }
   ],
   "source": [
    "# For getting Precsion, recall and ROC Curve, let us get prediction probablities\n",
    "y_train_pred = getCrossValPredict(sgd_clf,X_train,Y_train,cv=10)\n",
    "print(y_train_pred.shape)"
   ]
  },
  {
   "cell_type": "code",
   "execution_count": 28,
   "metadata": {},
   "outputs": [],
   "source": [
    "# Get fpr , tpr score of SGD Classifier ()\n",
    "from sklearn.metrics import roc_curve\n",
    "\n",
    "fpr_sgd, tpr_sgd, thresholds_sgd = roc_curve(Y_train, y_train_pred)"
   ]
  },
  {
   "cell_type": "code",
   "execution_count": 29,
   "metadata": {},
   "outputs": [
    {
     "name": "stdout",
     "output_type": "stream",
     "text": [
      "[[111710    220]\n",
      " [  7950    120]]\n"
     ]
    }
   ],
   "source": [
    "# Get The confusion metrics\n",
    "conf_matrix = getConfusionMatrix(Y_train,y_train_pred)\n",
    "print(conf_matrix)"
   ]
  },
  {
   "cell_type": "code",
   "execution_count": 30,
   "metadata": {},
   "outputs": [
    {
     "name": "stdout",
     "output_type": "stream",
     "text": [
      "0.35294117647058826 0.01486988847583643 0.02853745541022592\n"
     ]
    }
   ],
   "source": [
    "# Get Precision , Recall and F1 Score\n",
    "precison,recall,f1score = getClassificationMetrics(Y_train,y_train_pred)\n",
    "print(precison,recall,f1score)"
   ]
  },
  {
   "cell_type": "code",
   "execution_count": 31,
   "metadata": {},
   "outputs": [
    {
     "data": {
      "image/png": "[encoded data removed]",
      "text/plain": [
       "<Figure size 432x288 with 1 Axes>"
      ]
     },
     "metadata": {
      "needs_background": "light"
     },
     "output_type": "display_data"
    }
   ],
   "source": [
    "# Plot precision recall graph under probablistic distribution\n",
    "plot_precision_recall_vs_threshold(Y_train,y_train_pred)"
   ]
  },
  {
   "cell_type": "code",
   "execution_count": 32,
   "metadata": {},
   "outputs": [
    {
     "data": {
      "image/png": "[encoded data removed]",
      "text/plain": [
       "<Figure size 432x288 with 1 Axes>"
      ]
     },
     "metadata": {
      "needs_background": "light"
     },
     "output_type": "display_data"
    }
   ],
   "source": [
    "# Plot ROC Curve\n",
    "plot_roc_curve(Y_train, y_train_pred)"
   ]
  },
  {
   "cell_type": "code",
   "execution_count": 33,
   "metadata": {},
   "outputs": [
    {
     "name": "stdout",
     "output_type": "stream",
     "text": [
      "0.5064521871576002\n"
     ]
    }
   ],
   "source": [
    "# Get Roc Score\n",
    "rocScore = getROCScore(Y_train,y_train_pred)\n",
    "print(rocScore)"
   ]
  },
  {
   "cell_type": "raw",
   "metadata": {},
   "source": [
    "# Observation and Conclusion\n",
    "1. Even Though accuracy is high, SGD Model has average precision, low recall and very low F1 score. \n",
    "2. Model has higher False Positive (user will not default but model is saying it will default) ==> Missing good Customer\n",
    "3. Model has higher False Negative (actually user will  default but model is saying it will not default) - hence we are bringing bad customers who will default and hence it will be loss to the business\n",
    "4. Area under ROC curve is just 50 % and it is confirmed by ROC Score. \n",
    "5. This model is as good as Random guessing (ROC Score of 50 % is for Random guessing)\n",
    "6. Hence, we reject this model and will try logistic Regression"
   ]
  },
  {
   "cell_type": "markdown",
   "metadata": {},
   "source": [
    "# Logistic Regression Model"
   ]
  },
  {
   "cell_type": "code",
   "execution_count": 34,
   "metadata": {},
   "outputs": [
    {
     "data": {
      "text/plain": [
       "LogisticRegression(C=1.0, class_weight=None, dual=False, fit_intercept=True,\n",
       "                   intercept_scaling=1, l1_ratio=None, max_iter=100,\n",
       "                   multi_class='warn', n_jobs=None, penalty='l2',\n",
       "                   random_state=None, solver='warn', tol=0.0001, verbose=0,\n",
       "                   warm_start=False)"
      ]
     },
     "execution_count": 34,
     "metadata": {},
     "output_type": "execute_result"
    }
   ],
   "source": [
    "from sklearn.linear_model import LogisticRegression\n",
    "\n",
    "log_reg = LogisticRegression()\n",
    "log_reg.fit(X_train, Y_train.to_numpy().ravel())"
   ]
  },
  {
   "cell_type": "code",
   "execution_count": 35,
   "metadata": {},
   "outputs": [
    {
     "name": "stdout",
     "output_type": "stream",
     "text": [
      "(120000,)\n"
     ]
    }
   ],
   "source": [
    "# For getting Precsion, recall and ROC Curve, let us get prediction probablities\n",
    "y_train_pred = getCrossValPredict(log_reg,X_train,Y_train,cv=10)\n",
    "print(y_train_pred.shape)"
   ]
  },
  {
   "cell_type": "code",
   "execution_count": 36,
   "metadata": {},
   "outputs": [
    {
     "name": "stdout",
     "output_type": "stream",
     "text": [
      "[[111714    216]\n",
      " [  7780    290]]\n"
     ]
    }
   ],
   "source": [
    "# Get The confusion metrics\n",
    "conf_matrix = getConfusionMatrix(Y_train,y_train_pred)\n",
    "print(conf_matrix)"
   ]
  },
  {
   "cell_type": "code",
   "execution_count": 37,
   "metadata": {},
   "outputs": [
    {
     "name": "stdout",
     "output_type": "stream",
     "text": [
      "0.5731225296442688 0.03593556381660471 0.06763059701492538\n"
     ]
    }
   ],
   "source": [
    "# Get Precision , Recall and F1 Score\n",
    "precison,recall,f1score = getClassificationMetrics(Y_train,y_train_pred)\n",
    "print(precison,recall,f1score)"
   ]
  },
  {
   "cell_type": "code",
   "execution_count": 38,
   "metadata": {},
   "outputs": [
    {
     "data": {
      "image/png": "[encoded data removed]",
      "text/plain": [
       "<Figure size 432x288 with 1 Axes>"
      ]
     },
     "metadata": {
      "needs_background": "light"
     },
     "output_type": "display_data"
    }
   ],
   "source": [
    "# Plot precision recall graph under probablistic distribution\n",
    "plot_precision_recall_vs_threshold(Y_train,y_train_pred)"
   ]
  },
  {
   "cell_type": "code",
   "execution_count": 39,
   "metadata": {},
   "outputs": [
    {
     "data": {
      "image/png": "[encoded data removed]",
      "text/plain": [
       "<Figure size 432x288 with 1 Axes>"
      ]
     },
     "metadata": {
      "needs_background": "light"
     },
     "output_type": "display_data"
    }
   ],
   "source": [
    "# Plot ROC Curve\n",
    "plot_roc_curve(Y_train, y_train_pred)"
   ]
  },
  {
   "cell_type": "code",
   "execution_count": 40,
   "metadata": {},
   "outputs": [
    {
     "name": "stdout",
     "output_type": "stream",
     "text": [
      "0.5170028931385355\n"
     ]
    }
   ],
   "source": [
    "# Get Roc Score\n",
    "rocScore = getROCScore(Y_train,y_train_pred)\n",
    "print(rocScore)"
   ]
  },
  {
   "cell_type": "raw",
   "metadata": {},
   "source": [
    "# Observation and Conclusion\n",
    "1. Logistic Regression model is slightly better than SGD Classifier - but it is not an excellent model\n",
    "2. Model has higher False Positive (user will not default  but model is saying it will default) ==> Missing good Customer\n",
    "3. Model has higher False Negative (actually user will  default but model is saying it will not default) - hence we are bringing bad customers who will default and hence it will be loss to the business\n",
    "4. Area under ROC curve is just above 50% (51%) and it is confirmed by ROC Score. \n",
    "5. This model is slightly better than Random guessing (ROC Score of 50 % is for Random guessing)\n",
    "6. Hence, we reject this model and will try Decision Tree"
   ]
  },
  {
   "cell_type": "markdown",
   "metadata": {},
   "source": [
    "# Desion Tree Classifier"
   ]
  },
  {
   "cell_type": "code",
   "execution_count": 41,
   "metadata": {},
   "outputs": [
    {
     "data": {
      "text/plain": [
       "DecisionTreeClassifier(class_weight=None, criterion='gini', max_depth=4,\n",
       "                       max_features=None, max_leaf_nodes=None,\n",
       "                       min_impurity_decrease=0.0, min_impurity_split=None,\n",
       "                       min_samples_leaf=1, min_samples_split=2,\n",
       "                       min_weight_fraction_leaf=0.0, presort=False,\n",
       "                       random_state=None, splitter='best')"
      ]
     },
     "execution_count": 41,
     "metadata": {},
     "output_type": "execute_result"
    }
   ],
   "source": [
    "# Decision Tree\n",
    "from sklearn.tree import DecisionTreeClassifier\n",
    "\n",
    "tree = DecisionTreeClassifier(max_depth=4)\n",
    "tree.fit(X_train, Y_train.to_numpy().ravel())"
   ]
  },
  {
   "cell_type": "code",
   "execution_count": 42,
   "metadata": {},
   "outputs": [
    {
     "name": "stdout",
     "output_type": "stream",
     "text": [
      "(120000,)\n"
     ]
    }
   ],
   "source": [
    "# For getting Precsion, recall and ROC Curve, let us get prediction probablities\n",
    "y_train_pred = getCrossValPredict(tree,X_train,Y_train,cv=10)\n",
    "print(y_train_pred.shape)"
   ]
  },
  {
   "cell_type": "code",
   "execution_count": 43,
   "metadata": {},
   "outputs": [
    {
     "name": "stdout",
     "output_type": "stream",
     "text": [
      "[[110894   1036]\n",
      " [  6670   1400]]\n"
     ]
    }
   ],
   "source": [
    "# Get The confusion metrics\n",
    "conf_matrix = getConfusionMatrix(Y_train,y_train_pred)\n",
    "print(conf_matrix)"
   ]
  },
  {
   "cell_type": "code",
   "execution_count": 44,
   "metadata": {},
   "outputs": [
    {
     "name": "stdout",
     "output_type": "stream",
     "text": [
      "0.5747126436781609 0.1734820322180917 0.26651437273938705\n"
     ]
    }
   ],
   "source": [
    "# Get Precision , Recall and F1 Score\n",
    "precison,recall,f1score = getClassificationMetrics(Y_train,y_train_pred)\n",
    "print(precison,recall,f1score)"
   ]
  },
  {
   "cell_type": "code",
   "execution_count": 45,
   "metadata": {},
   "outputs": [
    {
     "data": {
      "image/png": "[encoded data removed]",
      "text/plain": [
       "<Figure size 432x288 with 1 Axes>"
      ]
     },
     "metadata": {
      "needs_background": "light"
     },
     "output_type": "display_data"
    }
   ],
   "source": [
    "# Plot precision recall graph under probablistic distribution\n",
    "plot_precision_recall_vs_threshold(Y_train,y_train_pred)"
   ]
  },
  {
   "cell_type": "code",
   "execution_count": 46,
   "metadata": {},
   "outputs": [
    {
     "data": {
      "image/png": "[encoded data removed]",
      "text/plain": [
       "<Figure size 432x288 with 1 Axes>"
      ]
     },
     "metadata": {
      "needs_background": "light"
     },
     "output_type": "display_data"
    }
   ],
   "source": [
    "# Plot ROC Curve\n",
    "plot_roc_curve(Y_train, y_train_pred)"
   ]
  },
  {
   "cell_type": "code",
   "execution_count": 47,
   "metadata": {},
   "outputs": [
    {
     "name": "stdout",
     "output_type": "stream",
     "text": [
      "(120000, 2)\n"
     ]
    }
   ],
   "source": [
    "# For getting Precsion, recall and ROC Curve, let us get prediction probablities\n",
    "y_probas_tree = getCrossValPredict(tree,X_train,Y_train,cv=10,method=\"predict_proba\")\n",
    "print(y_probas_tree.shape)"
   ]
  },
  {
   "cell_type": "code",
   "execution_count": 48,
   "metadata": {},
   "outputs": [],
   "source": [
    "y_scores_tree = y_probas_tree[:, 1]   # score = proba of positive class\n",
    "fpr_tree, tpr_tree, thresholds_ = roc_curve(Y_train,y_scores_tree)"
   ]
  },
  {
   "cell_type": "code",
   "execution_count": 49,
   "metadata": {},
   "outputs": [
    {
     "data": {
      "image/png": "[encoded data removed]",
      "text/plain": [
       "<Figure size 432x288 with 1 Axes>"
      ]
     },
     "metadata": {
      "needs_background": "light"
     },
     "output_type": "display_data"
    }
   ],
   "source": [
    "plt.plot(fpr_sgd, tpr_sgd, \"b:\", label=\"SGD\")\n",
    "plot_roc_curve_with_fpr(fpr_tree, tpr_tree, label = \"Decision Tree\")\n",
    "plt.legend(loc=\"lower right\")\n",
    "plt.show()"
   ]
  },
  {
   "cell_type": "code",
   "execution_count": 50,
   "metadata": {},
   "outputs": [
    {
     "name": "stdout",
     "output_type": "stream",
     "text": [
      "0.5821131236762753\n"
     ]
    }
   ],
   "source": [
    "# Get Roc Score\n",
    "rocScore = getROCScore(Y_train,y_train_pred)\n",
    "print(rocScore)"
   ]
  },
  {
   "cell_type": "raw",
   "metadata": {},
   "source": [
    "u# Observation and Conclusion\n",
    "1. Decision Tree Classifier model is much better than Logistic Regression - but there is scope for improvement\n",
    "2. Area udnder ROC curve is  above 50% (58%) and it is confirmed by ROC Score. \n",
    "3. This model is much better than Random guessing (ROC Score of 50 % is for Random guessing)\n",
    "4. Decision Tree classifier is prone for Overfitting and hence it may not generalize better. In Case of overfitting, we may have to prune leaf nodes.\n",
    "5. Hence, we will try Random Forest (it does not require leaves pruning  due to randomization). If Random Forest performance is comparable  - we will accept Random Forest model"
   ]
  },
  {
   "cell_type": "markdown",
   "metadata": {},
   "source": [
    "# Random Forest Model"
   ]
  },
  {
   "cell_type": "code",
   "execution_count": 51,
   "metadata": {},
   "outputs": [],
   "source": [
    "from sklearn.ensemble import RandomForestClassifier\n",
    "\n",
    "forest_clf = RandomForestClassifier(random_state=42)"
   ]
  },
  {
   "cell_type": "code",
   "execution_count": 52,
   "metadata": {},
   "outputs": [
    {
     "name": "stdout",
     "output_type": "stream",
     "text": [
      "(120000, 2)\n"
     ]
    }
   ],
   "source": [
    "# For getting Precsion, recall and ROC Curve, let us get prediction probablities\n",
    "y_probas_forest = getCrossValPredict(forest_clf,X_train,Y_train,cv=10,method=\"predict_proba\")\n",
    "print(y_probas_forest.shape)"
   ]
  },
  {
   "cell_type": "code",
   "execution_count": 53,
   "metadata": {},
   "outputs": [],
   "source": [
    "y_scores_forest = y_probas_forest[:, 1]   # score = proba of positive class\n",
    "fpr_forest, tpr_forest, thresholds_forest = roc_curve(Y_train,y_scores_forest)"
   ]
  },
  {
   "cell_type": "code",
   "execution_count": 54,
   "metadata": {},
   "outputs": [
    {
     "data": {
      "image/png": "[encoded data removed]",
      "text/plain": [
       "<Figure size 432x288 with 1 Axes>"
      ]
     },
     "metadata": {
      "needs_background": "light"
     },
     "output_type": "display_data"
    }
   ],
   "source": [
    "plt.plot(fpr_sgd, tpr_sgd, \"b:\", label=\"SGD\")\n",
    "plot_roc_curve_with_fpr(fpr_forest, tpr_forest, label = \"Random Forest\")\n",
    "plt.legend(loc=\"lower right\")\n",
    "plt.show()"
   ]
  },
  {
   "cell_type": "code",
   "execution_count": 55,
   "metadata": {},
   "outputs": [
    {
     "name": "stdout",
     "output_type": "stream",
     "text": [
      "(120000,)\n"
     ]
    }
   ],
   "source": [
    "# For getting Precsion, recall and ROC Curve, let us get prediction probablities\n",
    "y_train_pred = getCrossValPredict(forest_clf,X_train,Y_train,cv=10)\n",
    "print(y_train_pred.shape)"
   ]
  },
  {
   "cell_type": "code",
   "execution_count": 56,
   "metadata": {},
   "outputs": [
    {
     "name": "stdout",
     "output_type": "stream",
     "text": [
      "[[110630   1300]\n",
      " [  6691   1379]]\n"
     ]
    }
   ],
   "source": [
    "# Get The confusion metrics\n",
    "conf_matrix = getConfusionMatrix(Y_train,y_train_pred)\n",
    "print(conf_matrix)"
   ]
  },
  {
   "cell_type": "code",
   "execution_count": 57,
   "metadata": {},
   "outputs": [
    {
     "name": "stdout",
     "output_type": "stream",
     "text": [
      "0.5147443075774543 0.1708798017348203 0.2565820076286166\n"
     ]
    }
   ],
   "source": [
    "# Get Precision , Recall and F1 Score\n",
    "precison,recall,f1score = getClassificationMetrics(Y_train,y_train_pred)\n",
    "print(precison,recall,f1score)"
   ]
  },
  {
   "cell_type": "code",
   "execution_count": 58,
   "metadata": {},
   "outputs": [
    {
     "data": {
      "image/png": "[encoded data removed]",
      "text/plain": [
       "<Figure size 432x288 with 1 Axes>"
      ]
     },
     "metadata": {
      "needs_background": "light"
     },
     "output_type": "display_data"
    }
   ],
   "source": [
    "# Plot precision recall graph under probablistic distribution\n",
    "plot_precision_recall_vs_threshold(Y_train,y_train_pred)"
   ]
  },
  {
   "cell_type": "code",
   "execution_count": 59,
   "metadata": {},
   "outputs": [
    {
     "data": {
      "image/png": "[encoded data removed]",
      "text/plain": [
       "<Figure size 432x288 with 1 Axes>"
      ]
     },
     "metadata": {
      "needs_background": "light"
     },
     "output_type": "display_data"
    }
   ],
   "source": [
    "# Plot ROC Curve\n",
    "plot_roc_curve(Y_train, y_train_pred)"
   ]
  },
  {
   "cell_type": "code",
   "execution_count": 60,
   "metadata": {},
   "outputs": [
    {
     "name": "stdout",
     "output_type": "stream",
     "text": [
      "0.579632699938258\n"
     ]
    }
   ],
   "source": [
    "# Get Roc Score\n",
    "rocScore = getROCScore(Y_train,y_train_pred)\n",
    "print(rocScore)"
   ]
  },
  {
   "cell_type": "raw",
   "metadata": {},
   "source": [
    "# Observation and Conclusion\n",
    "1. Random Forest Classifier  model is equivalent in performance - compared to Decision Tree Model\n",
    "2. Area under ROC curve is  above 50% (58%) and it is confirmed by ROC Score. \n",
    "3. This model is much better than Random guessing (ROC Score of 50 % is for Random guessing)\n",
    "4. Decision Tree classifier is prone for Overfitting and hence it may not generalize better. In Case of overfitting, we may have to prune leaf nodes.\n",
    "5. Hence, we will use  Random Forest (it does not require leaves pruning due to randomization). Random Forest performance is comparable  to Decision  Tree and hence -we will accept Random Forest model"
   ]
  },
  {
   "cell_type": "markdown",
   "metadata": {},
   "source": [
    "# Based on above 4 models - we will be using Random Forest model to solve Credit Scoring Problem"
   ]
  },
  {
   "cell_type": "code",
   "execution_count": 61,
   "metadata": {},
   "outputs": [],
   "source": [
    "# We will find best model parameters for Random Forest through Grid Search"
   ]
  },
  {
   "cell_type": "code",
   "execution_count": 62,
   "metadata": {},
   "outputs": [
    {
     "data": {
      "text/plain": [
       "GridSearchCV(cv=10, error_score='raise-deprecating',\n",
       "             estimator=RandomForestClassifier(bootstrap=True, class_weight=None,\n",
       "                                              criterion='gini', max_depth=None,\n",
       "                                              max_features='auto',\n",
       "                                              max_leaf_nodes=None,\n",
       "                                              min_impurity_decrease=0.0,\n",
       "                                              min_impurity_split=None,\n",
       "                                              min_samples_leaf=1,\n",
       "                                              min_samples_split=2,\n",
       "                                              min_weight_fraction_leaf=0.0,\n",
       "                                              n_estimators='warn', n_jobs=None,\n",
       "                                              oob_score=False, random_state=42,\n",
       "                                              verbose=0, warm_start=False),\n",
       "             iid='warn', n_jobs=None,\n",
       "             param_grid=[{'max_features': [2, 4, 6, 8],\n",
       "                          'n_estimators': [3, 10, 30]},\n",
       "                         {'bootstrap': [False], 'max_features': [2, 3, 4, 8],\n",
       "                          'n_estimators': [3, 10]}],\n",
       "             pre_dispatch='2*n_jobs', refit=True, return_train_score=True,\n",
       "             scoring=None, verbose=0)"
      ]
     },
     "execution_count": 62,
     "metadata": {},
     "output_type": "execute_result"
    }
   ],
   "source": [
    "from sklearn.model_selection import GridSearchCV\n",
    "\n",
    "param_grid = [\n",
    "    {'n_estimators': [3, 10, 30], 'max_features': [2, 4, 6, 8]},\n",
    "    {'bootstrap': [False], 'n_estimators': [3, 10], 'max_features': [2, 3, 4,8]},\n",
    "  ]\n",
    "\n",
    "forest_reg = RandomForestClassifier()\n",
    "\n",
    "grid_search = GridSearchCV(forest_clf, param_grid, cv=10,\n",
    "                           return_train_score=True)\n",
    "\n",
    "grid_search.fit(X_train, Y_train.to_numpy().ravel())"
   ]
  },
  {
   "cell_type": "code",
   "execution_count": 63,
   "metadata": {},
   "outputs": [
    {
     "name": "stdout",
     "output_type": "stream",
     "text": [
      "{'max_features': 2, 'n_estimators': 30}\n",
      "RandomForestClassifier(bootstrap=True, class_weight=None, criterion='gini',\n",
      "                       max_depth=None, max_features=2, max_leaf_nodes=None,\n",
      "                       min_impurity_decrease=0.0, min_impurity_split=None,\n",
      "                       min_samples_leaf=1, min_samples_split=2,\n",
      "                       min_weight_fraction_leaf=0.0, n_estimators=30,\n",
      "                       n_jobs=None, oob_score=False, random_state=42, verbose=0,\n",
      "                       warm_start=False)\n"
     ]
    }
   ],
   "source": [
    "print(grid_search.best_params_)\n",
    "print(grid_search.best_estimator_)"
   ]
  },
  {
   "cell_type": "code",
   "execution_count": 64,
   "metadata": {},
   "outputs": [
    {
     "name": "stdout",
     "output_type": "stream",
     "text": [
      "(101503, 10)\n",
      "(101503, 1)\n",
      "(101503, 1)\n"
     ]
    },
    {
     "data": {
      "text/html": [
       "<div>\n",
       "<style scoped>\n",
       "    .dataframe tbody tr th:only-of-type {\n",
       "        vertical-align: middle;\n",
       "    }\n",
       "\n",
       "    .dataframe tbody tr th {\n",
       "        vertical-align: top;\n",
       "    }\n",
       "\n",
       "    .dataframe thead th {\n",
       "        text-align: right;\n",
       "    }\n",
       "</style>\n",
       "<table border=\"1\" class=\"dataframe\">\n",
       "  <thead>\n",
       "    <tr style=\"text-align: right;\">\n",
       "      <th></th>\n",
       "      <th>UtilisationRatio</th>\n",
       "      <th>age</th>\n",
       "      <th>28-59DaysPastDue</th>\n",
       "      <th>DebtRatio</th>\n",
       "      <th>MonthlyIncome</th>\n",
       "      <th>NumberOfOpenCreditLinesAndLoans</th>\n",
       "      <th>91DaysLate</th>\n",
       "      <th>NumberRealEstateLoansOrLines</th>\n",
       "      <th>60-90DaysPastDue</th>\n",
       "      <th>NumberOfDependents</th>\n",
       "    </tr>\n",
       "  </thead>\n",
       "  <tbody>\n",
       "    <tr>\n",
       "      <td>0</td>\n",
       "      <td>0.886</td>\n",
       "      <td>43</td>\n",
       "      <td>0</td>\n",
       "      <td>0.178</td>\n",
       "      <td>5700.000</td>\n",
       "      <td>4</td>\n",
       "      <td>0</td>\n",
       "      <td>0</td>\n",
       "      <td>0</td>\n",
       "      <td>0.000</td>\n",
       "    </tr>\n",
       "    <tr>\n",
       "      <td>1</td>\n",
       "      <td>0.463</td>\n",
       "      <td>57</td>\n",
       "      <td>0</td>\n",
       "      <td>0.527</td>\n",
       "      <td>9141.000</td>\n",
       "      <td>15</td>\n",
       "      <td>0</td>\n",
       "      <td>4</td>\n",
       "      <td>0</td>\n",
       "      <td>2.000</td>\n",
       "    </tr>\n",
       "    <tr>\n",
       "      <td>2</td>\n",
       "      <td>0.043</td>\n",
       "      <td>59</td>\n",
       "      <td>0</td>\n",
       "      <td>0.688</td>\n",
       "      <td>5083.000</td>\n",
       "      <td>12</td>\n",
       "      <td>0</td>\n",
       "      <td>1</td>\n",
       "      <td>0</td>\n",
       "      <td>2.000</td>\n",
       "    </tr>\n",
       "    <tr>\n",
       "      <td>3</td>\n",
       "      <td>0.280</td>\n",
       "      <td>38</td>\n",
       "      <td>1</td>\n",
       "      <td>0.926</td>\n",
       "      <td>3200.000</td>\n",
       "      <td>7</td>\n",
       "      <td>0</td>\n",
       "      <td>2</td>\n",
       "      <td>0</td>\n",
       "      <td>0.000</td>\n",
       "    </tr>\n",
       "    <tr>\n",
       "      <td>4</td>\n",
       "      <td>1.000</td>\n",
       "      <td>27</td>\n",
       "      <td>0</td>\n",
       "      <td>0.020</td>\n",
       "      <td>3865.000</td>\n",
       "      <td>4</td>\n",
       "      <td>0</td>\n",
       "      <td>0</td>\n",
       "      <td>0</td>\n",
       "      <td>1.000</td>\n",
       "    </tr>\n",
       "  </tbody>\n",
       "</table>\n",
       "</div>"
      ],
      "text/plain": [
       "   UtilisationRatio  age  28-59DaysPastDue  DebtRatio  MonthlyIncome  \\\n",
       "0             0.886   43                 0      0.178       5700.000   \n",
       "1             0.463   57                 0      0.527       9141.000   \n",
       "2             0.043   59                 0      0.688       5083.000   \n",
       "3             0.280   38                 1      0.926       3200.000   \n",
       "4             1.000   27                 0      0.020       3865.000   \n",
       "\n",
       "   NumberOfOpenCreditLinesAndLoans  91DaysLate  NumberRealEstateLoansOrLines  \\\n",
       "0                                4           0                             0   \n",
       "1                               15           0                             4   \n",
       "2                               12           0                             1   \n",
       "3                                7           0                             2   \n",
       "4                                4           0                             0   \n",
       "\n",
       "   60-90DaysPastDue  NumberOfDependents  \n",
       "0                 0               0.000  \n",
       "1                 0               2.000  \n",
       "2                 0               2.000  \n",
       "3                 0               0.000  \n",
       "4                 0               1.000  "
      ]
     },
     "execution_count": 64,
     "metadata": {},
     "output_type": "execute_result"
    }
   ],
   "source": [
    "dfTest = pd.read_csv(\"testdata.csv\",header=0)\n",
    "dfTest.rename(columns={'Unnamed: 0':'RowNo'},inplace=True)\n",
    "dfTestRowFrame = dfTest[['RowNo']]\n",
    "dfTestData = dfTest[predictors]\n",
    "dfTestTarget = dfTest[targetCol]\n",
    "print(dfTestData.shape)\n",
    "print(dfTestTarget.shape)\n",
    "print(dfTestRowFrame.shape)\n",
    "dfTestData.head()"
   ]
  },
  {
   "cell_type": "code",
   "execution_count": 65,
   "metadata": {},
   "outputs": [
    {
     "name": "stdout",
     "output_type": "stream",
     "text": [
      "<class 'pandas.core.frame.DataFrame'>\n",
      "RangeIndex: 101503 entries, 0 to 101502\n",
      "Data columns (total 10 columns):\n",
      "UtilisationRatio                   101503 non-null float64\n",
      "age                                101503 non-null int64\n",
      "28-59DaysPastDue                   101503 non-null int64\n",
      "DebtRatio                          101503 non-null float64\n",
      "MonthlyIncome                      101503 non-null float64\n",
      "NumberOfOpenCreditLinesAndLoans    101503 non-null int64\n",
      "91DaysLate                         101503 non-null int64\n",
      "NumberRealEstateLoansOrLines       101503 non-null int64\n",
      "60-90DaysPastDue                   101503 non-null int64\n",
      "NumberOfDependents                 101503 non-null float64\n",
      "dtypes: float64(4), int64(6)\n",
      "memory usage: 7.7 MB\n"
     ]
    }
   ],
   "source": [
    "dfTestData['MonthlyIncome'] = dfTestData['MonthlyIncome'].fillna(dfTestData['MonthlyIncome'].median())\n",
    "dfTestData['NumberOfDependents'] = dfTestData['NumberOfDependents'].fillna(dfTestData['NumberOfDependents'].median())\n",
    "\n",
    "dfTestData.info()"
   ]
  },
  {
   "cell_type": "code",
   "execution_count": 66,
   "metadata": {},
   "outputs": [
    {
     "name": "stdout",
     "output_type": "stream",
     "text": [
      "(101503,)\n"
     ]
    }
   ],
   "source": [
    "final_model = grid_search.best_estimator_\n",
    "\n",
    "X_test = dfTestData\n",
    "\n",
    "\n",
    "\n",
    "final_predictions = final_model.predict(X_test)\n",
    "print(final_predictions.shape)"
   ]
  },
  {
   "cell_type": "code",
   "execution_count": 67,
   "metadata": {},
   "outputs": [
    {
     "name": "stdout",
     "output_type": "stream",
     "text": [
      "(101503, 1)\n",
      "0    99297\n",
      "1     2206\n",
      "Name: delinquency, dtype: int64\n"
     ]
    },
    {
     "data": {
      "text/html": [
       "<div>\n",
       "<style scoped>\n",
       "    .dataframe tbody tr th:only-of-type {\n",
       "        vertical-align: middle;\n",
       "    }\n",
       "\n",
       "    .dataframe tbody tr th {\n",
       "        vertical-align: top;\n",
       "    }\n",
       "\n",
       "    .dataframe thead th {\n",
       "        text-align: right;\n",
       "    }\n",
       "</style>\n",
       "<table border=\"1\" class=\"dataframe\">\n",
       "  <thead>\n",
       "    <tr style=\"text-align: right;\">\n",
       "      <th></th>\n",
       "      <th>delinquency</th>\n",
       "    </tr>\n",
       "  </thead>\n",
       "  <tbody>\n",
       "    <tr>\n",
       "      <td>0</td>\n",
       "      <td>0</td>\n",
       "    </tr>\n",
       "    <tr>\n",
       "      <td>1</td>\n",
       "      <td>0</td>\n",
       "    </tr>\n",
       "    <tr>\n",
       "      <td>2</td>\n",
       "      <td>0</td>\n",
       "    </tr>\n",
       "    <tr>\n",
       "      <td>3</td>\n",
       "      <td>0</td>\n",
       "    </tr>\n",
       "    <tr>\n",
       "      <td>4</td>\n",
       "      <td>0</td>\n",
       "    </tr>\n",
       "  </tbody>\n",
       "</table>\n",
       "</div>"
      ],
      "text/plain": [
       "   delinquency\n",
       "0            0\n",
       "1            0\n",
       "2            0\n",
       "3            0\n",
       "4            0"
      ]
     },
     "execution_count": 67,
     "metadata": {},
     "output_type": "execute_result"
    }
   ],
   "source": [
    "delinquencyFrame = pd.DataFrame(final_predictions,columns=['delinquency'])\n",
    "print(delinquencyFrame.shape)\n",
    "print(delinquencyFrame.delinquency.value_counts())\n",
    "delinquencyFrame.head()"
   ]
  },
  {
   "cell_type": "code",
   "execution_count": 68,
   "metadata": {},
   "outputs": [
    {
     "name": "stdout",
     "output_type": "stream",
     "text": [
      "(101503, 12)\n",
      "0    99297\n",
      "1     2206\n",
      "Name: delinquency, dtype: int64\n"
     ]
    },
    {
     "data": {
      "text/html": [
       "<div>\n",
       "<style scoped>\n",
       "    .dataframe tbody tr th:only-of-type {\n",
       "        vertical-align: middle;\n",
       "    }\n",
       "\n",
       "    .dataframe tbody tr th {\n",
       "        vertical-align: top;\n",
       "    }\n",
       "\n",
       "    .dataframe thead th {\n",
       "        text-align: right;\n",
       "    }\n",
       "</style>\n",
       "<table border=\"1\" class=\"dataframe\">\n",
       "  <thead>\n",
       "    <tr style=\"text-align: right;\">\n",
       "      <th></th>\n",
       "      <th>RowNo</th>\n",
       "      <th>delinquency</th>\n",
       "      <th>UtilisationRatio</th>\n",
       "      <th>age</th>\n",
       "      <th>28-59DaysPastDue</th>\n",
       "      <th>DebtRatio</th>\n",
       "      <th>MonthlyIncome</th>\n",
       "      <th>NumberOfOpenCreditLinesAndLoans</th>\n",
       "      <th>91DaysLate</th>\n",
       "      <th>NumberRealEstateLoansOrLines</th>\n",
       "      <th>60-90DaysPastDue</th>\n",
       "      <th>NumberOfDependents</th>\n",
       "    </tr>\n",
       "  </thead>\n",
       "  <tbody>\n",
       "    <tr>\n",
       "      <td>0</td>\n",
       "      <td>1</td>\n",
       "      <td>0</td>\n",
       "      <td>0.886</td>\n",
       "      <td>43</td>\n",
       "      <td>0</td>\n",
       "      <td>0.178</td>\n",
       "      <td>5700.000</td>\n",
       "      <td>4</td>\n",
       "      <td>0</td>\n",
       "      <td>0</td>\n",
       "      <td>0</td>\n",
       "      <td>0.000</td>\n",
       "    </tr>\n",
       "    <tr>\n",
       "      <td>1</td>\n",
       "      <td>2</td>\n",
       "      <td>0</td>\n",
       "      <td>0.463</td>\n",
       "      <td>57</td>\n",
       "      <td>0</td>\n",
       "      <td>0.527</td>\n",
       "      <td>9141.000</td>\n",
       "      <td>15</td>\n",
       "      <td>0</td>\n",
       "      <td>4</td>\n",
       "      <td>0</td>\n",
       "      <td>2.000</td>\n",
       "    </tr>\n",
       "    <tr>\n",
       "      <td>2</td>\n",
       "      <td>3</td>\n",
       "      <td>0</td>\n",
       "      <td>0.043</td>\n",
       "      <td>59</td>\n",
       "      <td>0</td>\n",
       "      <td>0.688</td>\n",
       "      <td>5083.000</td>\n",
       "      <td>12</td>\n",
       "      <td>0</td>\n",
       "      <td>1</td>\n",
       "      <td>0</td>\n",
       "      <td>2.000</td>\n",
       "    </tr>\n",
       "    <tr>\n",
       "      <td>3</td>\n",
       "      <td>4</td>\n",
       "      <td>0</td>\n",
       "      <td>0.280</td>\n",
       "      <td>38</td>\n",
       "      <td>1</td>\n",
       "      <td>0.926</td>\n",
       "      <td>3200.000</td>\n",
       "      <td>7</td>\n",
       "      <td>0</td>\n",
       "      <td>2</td>\n",
       "      <td>0</td>\n",
       "      <td>0.000</td>\n",
       "    </tr>\n",
       "    <tr>\n",
       "      <td>4</td>\n",
       "      <td>5</td>\n",
       "      <td>0</td>\n",
       "      <td>1.000</td>\n",
       "      <td>27</td>\n",
       "      <td>0</td>\n",
       "      <td>0.020</td>\n",
       "      <td>3865.000</td>\n",
       "      <td>4</td>\n",
       "      <td>0</td>\n",
       "      <td>0</td>\n",
       "      <td>0</td>\n",
       "      <td>1.000</td>\n",
       "    </tr>\n",
       "  </tbody>\n",
       "</table>\n",
       "</div>"
      ],
      "text/plain": [
       "   RowNo  delinquency  UtilisationRatio  age  28-59DaysPastDue  DebtRatio  \\\n",
       "0      1            0             0.886   43                 0      0.178   \n",
       "1      2            0             0.463   57                 0      0.527   \n",
       "2      3            0             0.043   59                 0      0.688   \n",
       "3      4            0             0.280   38                 1      0.926   \n",
       "4      5            0             1.000   27                 0      0.020   \n",
       "\n",
       "   MonthlyIncome  NumberOfOpenCreditLinesAndLoans  91DaysLate  \\\n",
       "0       5700.000                                4           0   \n",
       "1       9141.000                               15           0   \n",
       "2       5083.000                               12           0   \n",
       "3       3200.000                                7           0   \n",
       "4       3865.000                                4           0   \n",
       "\n",
       "   NumberRealEstateLoansOrLines  60-90DaysPastDue  NumberOfDependents  \n",
       "0                             0                 0               0.000  \n",
       "1                             4                 0               2.000  \n",
       "2                             1                 0               2.000  \n",
       "3                             2                 0               0.000  \n",
       "4                             0                 0               1.000  "
      ]
     },
     "execution_count": 68,
     "metadata": {},
     "output_type": "execute_result"
    }
   ],
   "source": [
    "dfFinalTestFrame = pd.concat([dfTestRowFrame,delinquencyFrame,X_test],axis=1)\n",
    "print(dfFinalTestFrame.shape)\n",
    "print(dfFinalTestFrame.delinquency.value_counts())\n",
    "dfFinalTestFrame.head()"
   ]
  },
  {
   "cell_type": "code",
   "execution_count": 72,
   "metadata": {},
   "outputs": [],
   "source": [
    "dfFinalTestFrame.to_csv(\"testDataPopulatedWithDelinquency.csv\",index=False)"
   ]
  },
  {
   "cell_type": "raw",
   "metadata": {},
   "source": [
    "# Final Observation\n",
    "1. We are able to predict if a Credit Card user will default - based on other features provided.\n",
    "2. As expected, There is class imbalance  of default vs Not Default cases. Original - Training Data has 6.7 % Default cases. Predicted Test Data has 2.09 % of default cases\n",
    "3. None of the model has high accuracy (max ROC of 58%) . We should have considered more features or combination of features ( past due dates are highly correlated and we could have combined them)\n",
    "\n"
   ]
  },
  {
   "cell_type": "raw",
   "metadata": {},
   "source": [
    "# Things Which I could have done differently\n",
    "1. I could have scaled the Data and applied SVM (Support Vector Machine). I could have compared its performance compared to Random Forest Model\n",
    "2. There seems to be non-linear relation among predictors. SVM non-linear Kernel could have helped"
   ]
  },
  {
   "cell_type": "code",
   "execution_count": null,
   "metadata": {},
   "outputs": [],
   "source": []
  }
 ],
 "metadata": {
  "kernelspec": {
   "display_name": "Python 3",
   "language": "python",
   "name": "python3"
  },
  "language_info": {
   "codemirror_mode": {
    "name": "ipython",
    "version": 3
   },
   "file_extension": ".py",
   "mimetype": "text/x-python",
   "name": "python",
   "nbconvert_exporter": "python",
   "pygments_lexer": "ipython3",
   "version": "3.7.4"
  },
  "toc": {
   "base_numbering": 1,
   "nav_menu": {},
   "number_sections": false,
   "sideBar": false,
   "skip_h1_title": false,
   "title_cell": "Table of Contents",
   "title_sidebar": "Contents",
   "toc_cell": false,
   "toc_position": {},
   "toc_section_display": false,
   "toc_window_display": false
  }
 },
 "nbformat": 4,
 "nbformat_minor": 2
}
